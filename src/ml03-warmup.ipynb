{
 "cells": [
  {
   "cell_type": "markdown",
   "metadata": {
    "id": "_bB6LN1u3xOn"
   },
   "source": [
    "# Simple example illustrating basic aspects of ridge linear regression"
   ]
  },
  {
   "cell_type": "code",
   "execution_count": 13,
   "metadata": {
    "ExecuteTime": {
     "end_time": "2020-07-24T10:46:36.102809Z",
     "start_time": "2020-07-24T10:46:36.072899Z"
    },
    "id": "ZT-6k9BK3xOp"
   },
   "outputs": [],
   "source": [
    "# Uncomment to upgrade packages\n",
    "#!pip3 install pandas --upgrade --user --quiet \n",
    "#!pip3 install numpy --upgrade --user --quiet \n",
    "#!pip3 install scikit-learn --upgrade --user --quiet"
   ]
  },
  {
   "cell_type": "code",
   "execution_count": 1,
   "metadata": {
    "ExecuteTime": {
     "end_time": "2020-07-24T10:46:37.283749Z",
     "start_time": "2020-07-24T10:46:36.952293Z"
    },
    "id": "LdkmvYfG3xOx"
   },
   "outputs": [],
   "source": [
    "import numpy as np\n",
    "import pandas as pd\n",
    "\n",
    "pd.set_option('display.precision', 4)"
   ]
  },
  {
   "cell_type": "markdown",
   "metadata": {},
   "source": [
    "## 1. Load `murders.txt` data from class"
   ]
  },
  {
   "cell_type": "code",
   "execution_count": 2,
   "metadata": {
    "id": "ZxilZq_CNJ-X"
   },
   "outputs": [
    {
     "name": "stdout",
     "output_type": "stream",
     "text": [
      "   inhabitants  poverty  unemployment  murders  x_0\n",
      "0          587     16.5           6.2     11.2    1\n",
      "1          643     20.5           6.4     13.4    1\n",
      "2          635     26.3           9.3     40.7    1\n",
      "3          692     16.5           5.3      5.3    1\n",
      "4         1248     19.2           7.3     24.8    1\n"
     ]
    }
   ],
   "source": [
    "df = pd.read_csv('../data/murders.txt', sep=' ')\n",
    "df['x_0'] = 1\n",
    "print(df.head())"
   ]
  },
  {
   "cell_type": "code",
   "execution_count": 3,
   "metadata": {},
   "outputs": [
    {
     "name": "stdout",
     "output_type": "stream",
     "text": [
      "(20, 4) (20, 1)\n"
     ]
    }
   ],
   "source": [
    "# put data into X matrix and y column\n",
    "\n",
    "X = df[['x_0', 'inhabitants', 'poverty', 'unemployment']].to_numpy()\n",
    "y = df[['murders']].to_numpy()\n",
    "\n",
    "print(X.shape, y.shape)"
   ]
  },
  {
   "cell_type": "markdown",
   "metadata": {},
   "source": [
    "## 2. Train/test split for later validation"
   ]
  },
  {
   "cell_type": "code",
   "execution_count": 4,
   "metadata": {},
   "outputs": [
    {
     "name": "stdout",
     "output_type": "stream",
     "text": [
      "(13, 4) (13, 1)\n",
      "(7, 4) (7, 1)\n"
     ]
    }
   ],
   "source": [
    "from sklearn.model_selection import train_test_split\n",
    "\n",
    "X_train, X_test, y_train, y_test = train_test_split(X, y, test_size=0.33, random_state=0)\n",
    "\n",
    "print(X_train.shape, y_train.shape)\n",
    "print(X_test.shape, y_test.shape)"
   ]
  },
  {
   "cell_type": "markdown",
   "metadata": {},
   "source": [
    "## 3. Preprocessing: first normalize training set, then apply same transformation to test"
   ]
  },
  {
   "cell_type": "code",
   "execution_count": 5,
   "metadata": {},
   "outputs": [
    {
     "name": "stdout",
     "output_type": "stream",
     "text": [
      "[ 1.00000000e+00  6.83214169e-17 -5.44436291e-16  1.70803542e-16]\n",
      "[ 1.          2.26114699 -0.15256269 -0.21991089]\n"
     ]
    }
   ],
   "source": [
    "from sklearn import preprocessing\n",
    "\n",
    "scaler = preprocessing.StandardScaler().fit(X_train)   # computes means and stdevs for each column in X_train\n",
    "X_train_scaled = scaler.transform(X_train)             # substracts mean and divides by stdev (estimated from training)\n",
    "X_test_scaled = scaler.transform(X_test)               # substracts mean and divides by stdev (estimated from training)\n",
    "\n",
    "X_train_scaled[:,0] = 1   # undo transformation for all-1 column\n",
    "X_test_scaled[:,0] = 1   # undo transformation for all-1 column\n",
    "\n",
    "print(X_train_scaled.mean(axis=0))\n",
    "print(X_test_scaled.mean(axis=0))"
   ]
  },
  {
   "cell_type": "markdown",
   "metadata": {},
   "source": [
    "As expected, the means of the training dataset are zero, because the `scaler` was fit using those, but the test dataset isn't. In a larger-scale example, we would expect both to closely resemble zero."
   ]
  },
  {
   "cell_type": "markdown",
   "metadata": {},
   "source": [
    "## 4. Train ridge regression model for several $\\lambda$ values\n",
    "\n",
    "As explained in class, for each value of $\\lambda$ that we want to try, \n",
    "we use _maximum a posteriori_ method to find linear coefficients $\\theta_0, \\theta_1, ..$:\n",
    "\n",
    "$$\\theta_{ridge} = (X^T X + \\lambda I)^{-1} X^T y$$"
   ]
  },
  {
   "cell_type": "markdown",
   "metadata": {},
   "source": [
    "### train model, using formulas from slides\n",
    "\n",
    "1. For each $\\lambda\\in\\Lambda$:\n",
    "    - compute optimal solution $\\hat{\\mathbf{\\theta}}_{\\lambda} = (\\mathbf{X}^T\\mathbf{X} + \\lambda I)^{-1}\\mathbf{X}^T\\mathbf{y}$ \n",
    "    - compute \"hat\" matrix $H_{\\lambda} = \\mathbf{X}(\\mathbf{X}^T\\mathbf{X} + \\lambda I)^{-1}\\mathbf{X}^T$\n",
    "    - compute loocv directly for each $\\lambda$ (no need to use folds etc.):\n",
    "\n",
    "    $$loocv(\\lambda) = \\frac{1}{n} \\sum_{i=1}^n \\left( \\frac{y_i - \\mathbf{x}_i \\mathbf{\\theta}_{\\lambda}}{1 - h_{ii}}  \\right)^2$$\n",
    "    \n",
    "2. Return $\\lambda$ with minimum *loocv*\n"
   ]
  },
  {
   "cell_type": "code",
   "execution_count": 6,
   "metadata": {},
   "outputs": [
    {
     "data": {
      "application/vnd.microsoft.datawrangler.viewer.v0+json": {
       "columns": [
        {
         "name": "index",
         "rawType": "int64",
         "type": "integer"
        },
        {
         "name": "lambda",
         "rawType": "float64",
         "type": "float"
        },
        {
         "name": "training_mse",
         "rawType": "float64",
         "type": "float"
        },
        {
         "name": "loocv",
         "rawType": "float64",
         "type": "float"
        },
        {
         "name": "gcv",
         "rawType": "float64",
         "type": "float"
        }
       ],
       "conversionMethod": "pd.DataFrame",
       "ref": "dab3f9c1-b06e-4ab6-a804-9b6478a79bd4",
       "rows": [
        [
         "77",
         "0.9261187281287937",
         "11.11427914627533",
         "19.341087623443826",
         "20.295025575492172"
        ],
        [
         "78",
         "1.0427538888537666",
         "11.71318333100062",
         "19.39003508461038",
         "21.170910850589088"
        ],
        [
         "76",
         "0.8225295611543618",
         "10.624933550013283",
         "19.554363712735515",
         "19.592599882270413"
        ],
        [
         "79",
         "1.1740780525155752",
         "12.444851390947427",
         "19.754092357254972",
         "22.25510068123745"
        ],
        [
         "75",
         "0.7305271542664449",
         "10.2257631407447",
         "19.98130656305084",
         "19.03390626519767"
        ],
        [
         "80",
         "1.3219411484660286",
         "13.336912011132236",
         "20.490174390799503",
         "23.588162114890274"
        ],
        [
         "74",
         "0.6488154934780251",
         "9.900650182407405",
         "20.577895466511524",
         "18.59372859981936"
        ],
        [
         "73",
         "0.5762435278669958",
         "9.636241868640145",
         "21.304749893986003",
         "18.250782893064223"
        ],
        [
         "81",
         "1.4884260856962919",
         "14.422045625004383",
         "21.658843420190426",
         "25.216945743003755"
        ],
        [
         "72",
         "0.5117889550210738",
         "9.421509007927153",
         "22.127129843247452",
         "17.987182169620848"
        ],
        [
         "71",
         "0.45454382012949734",
         "9.247363620383062",
         "23.014838284629466",
         "17.78795425960769"
        ],
        [
         "82",
         "1.6758780942343263",
         "15.73861080903104",
         "23.323861545488658",
         "27.195047289045956"
        ],
        [
         "70",
         "0.40370172585965536",
         "9.10633202153126",
         "23.942037329632758",
         "17.640615082917396"
        ],
        [
         "69",
         "0.3585464728475101",
         "8.992278276491687",
         "24.886993600161084",
         "17.534795920954167"
        ],
        [
         "83",
         "1.886937761790578",
         "17.33122768248075",
         "25.55168665246956",
         "29.58309680617953"
        ],
        [
         "68",
         "0.31844197078335457",
         "8.900172137847989",
         "25.831770120580448",
         "17.461920733237577"
        ],
        [
         "67",
         "0.282823277972991",
         "8.82589545902988",
         "26.761882165648547",
         "17.41492839712162"
        ],
        [
         "66",
         "0.25118864315095796",
         "8.766081371998224",
         "27.66593331774424",
         "17.388034433878076"
        ],
        [
         "84",
         "2.1245782310305676",
         "19.251263609298125",
         "28.410908235602275",
         "32.44878826191684"
        ],
        [
         "65",
         "0.22309243744089835",
         "8.717981051916588",
         "28.535245985188464",
         "17.376527004103686"
        ],
        [
         "64",
         "0.1981388768974338",
         "8.679353529346638",
         "29.363498216092783",
         "17.376592455796324"
        ],
        [
         "63",
         "0.1759764472006225",
         "8.648374662630282",
         "30.14637611646208",
         "17.385166311802944"
        ],
        [
         "62",
         "0.15629295196512033",
         "8.623561995231523",
         "30.88124875433154",
         "17.39980617917418"
        ],
        [
         "61",
         "0.1388111149108652",
         "8.603712767177948",
         "31.566870227819578",
         "17.4185835934476"
        ],
        [
         "85",
         "2.392147081462639",
         "21.557152358413312",
         "31.971599706988",
         "35.866551033402864"
        ],
        [
         "60",
         "0.12328467394420659",
         "8.587852816860227",
         "32.20311165834182",
         "17.439992255071637"
        ],
        [
         "59",
         "0.10949491212781583",
         "8.575194501032488",
         "32.790724265384924",
         "17.46287047467492"
        ],
        [
         "58",
         "0.09724757667205168",
         "8.565102084561326",
         "33.331133385962204",
         "17.486335931611993"
        ],
        [
         "57",
         "0.08637014254641438",
         "8.557063317271547",
         "33.82626230471926",
         "17.50973108269824"
        ],
        [
         "56",
         "0.07670938216429439",
         "8.550666133229875",
         "34.278384034539506",
         "17.532577750816838"
        ],
        [
         "55",
         "0.06812920690579609",
         "8.545579587055247",
         "34.68999870120437",
         "17.5545395885162"
        ],
        [
         "54",
         "0.06050875007272942",
         "8.541538289933264",
         "35.06373390422905",
         "17.575391258520987"
        ],
        [
         "53",
         "0.05374066427085543",
         "8.538329731019434",
         "35.40226531292859",
         "17.594993306651"
        ],
        [
         "52",
         "0.047729609235051915",
         "8.535783972592693",
         "35.708254775959055",
         "17.61327182586894"
        ],
        [
         "51",
         "0.04239090879578535",
         "8.533765293345143",
         "35.984303340064535",
         "17.63020212427221"
        ],
        [
         "50",
         "0.037649358067924674",
         "8.532165426420967",
         "36.23291675912051",
         "17.64579571506591"
        ],
        [
         "86",
         "2.693413485920198",
         "24.314464765213664",
         "36.30453921385822",
         "39.91676012482195"
        ],
        [
         "49",
         "0.033438164059076146",
         "8.5308980994962",
         "36.45648130177469",
         "17.660090042760928"
        ],
        [
         "48",
         "0.0296980047740645",
         "8.529894635124718",
         "36.65724791383476",
         "17.673140446818408"
        ],
        [
         "47",
         "0.026376193561409467",
         "8.529100412248113",
         "36.837323043642655",
         "17.685013941640744"
        ],
        [
         "46",
         "0.02342593693016382",
         "8.528472025417267",
         "36.998664682995035",
         "17.6957844603219"
        ],
        [
         "45",
         "0.020805675382171717",
         "8.52797500795986",
         "37.14308240460902",
         "17.70552926928196"
        ],
        [
         "44",
         "0.018478497974222907",
         "8.527582009956692",
         "37.27224038471062",
         "17.714326312358413"
        ],
        [
         "43",
         "0.01641162236319188",
         "8.527271342246435",
         "37.387662583640065",
         "17.722252286792617"
        ],
        [
         "42",
         "0.014575933009692956",
         "8.527025814439076",
         "37.490739417754675",
         "17.729381290583934"
        ],
        [
         "41",
         "0.012945571035046411",
         "8.52683180866854",
         "37.58273539317338",
         "17.735783911670936"
        ],
        [
         "40",
         "0.011497569953977356",
         "8.526678542054409",
         "37.66479728751908",
         "17.741526655112484"
        ],
        [
         "39",
         "0.010211532151708511",
         "8.52655747999972",
         "37.73796256187794",
         "17.746671625613153"
        ],
        [
         "38",
         "0.009069341548063794",
         "8.526461869889452",
         "37.80316776396995",
         "17.7512764000488"
        ],
        [
         "37",
         "0.008054908400956686",
         "8.526386370776722",
         "37.861256747307245",
         "17.75539403870382"
        ]
       ],
       "shape": {
        "columns": 4,
        "rows": 100
       }
      },
      "text/html": [
       "<div>\n",
       "<style scoped>\n",
       "    .dataframe tbody tr th:only-of-type {\n",
       "        vertical-align: middle;\n",
       "    }\n",
       "\n",
       "    .dataframe tbody tr th {\n",
       "        vertical-align: top;\n",
       "    }\n",
       "\n",
       "    .dataframe thead th {\n",
       "        text-align: right;\n",
       "    }\n",
       "</style>\n",
       "<table border=\"1\" class=\"dataframe\">\n",
       "  <thead>\n",
       "    <tr style=\"text-align: right;\">\n",
       "      <th></th>\n",
       "      <th>lambda</th>\n",
       "      <th>training_mse</th>\n",
       "      <th>loocv</th>\n",
       "      <th>gcv</th>\n",
       "    </tr>\n",
       "  </thead>\n",
       "  <tbody>\n",
       "    <tr>\n",
       "      <th>77</th>\n",
       "      <td>0.9261</td>\n",
       "      <td>11.1143</td>\n",
       "      <td>19.3411</td>\n",
       "      <td>20.2950</td>\n",
       "    </tr>\n",
       "    <tr>\n",
       "      <th>78</th>\n",
       "      <td>1.0428</td>\n",
       "      <td>11.7132</td>\n",
       "      <td>19.3900</td>\n",
       "      <td>21.1709</td>\n",
       "    </tr>\n",
       "    <tr>\n",
       "      <th>76</th>\n",
       "      <td>0.8225</td>\n",
       "      <td>10.6249</td>\n",
       "      <td>19.5544</td>\n",
       "      <td>19.5926</td>\n",
       "    </tr>\n",
       "    <tr>\n",
       "      <th>79</th>\n",
       "      <td>1.1741</td>\n",
       "      <td>12.4449</td>\n",
       "      <td>19.7541</td>\n",
       "      <td>22.2551</td>\n",
       "    </tr>\n",
       "    <tr>\n",
       "      <th>75</th>\n",
       "      <td>0.7305</td>\n",
       "      <td>10.2258</td>\n",
       "      <td>19.9813</td>\n",
       "      <td>19.0339</td>\n",
       "    </tr>\n",
       "    <tr>\n",
       "      <th>...</th>\n",
       "      <td>...</td>\n",
       "      <td>...</td>\n",
       "      <td>...</td>\n",
       "      <td>...</td>\n",
       "    </tr>\n",
       "    <tr>\n",
       "      <th>95</th>\n",
       "      <td>7.8332</td>\n",
       "      <td>82.5775</td>\n",
       "      <td>120.1984</td>\n",
       "      <td>118.2082</td>\n",
       "    </tr>\n",
       "    <tr>\n",
       "      <th>96</th>\n",
       "      <td>8.8197</td>\n",
       "      <td>94.1640</td>\n",
       "      <td>135.1295</td>\n",
       "      <td>132.5608</td>\n",
       "    </tr>\n",
       "    <tr>\n",
       "      <th>97</th>\n",
       "      <td>9.9305</td>\n",
       "      <td>106.9429</td>\n",
       "      <td>151.1217</td>\n",
       "      <td>148.0363</td>\n",
       "    </tr>\n",
       "    <tr>\n",
       "      <th>98</th>\n",
       "      <td>11.1811</td>\n",
       "      <td>120.9006</td>\n",
       "      <td>168.0884</td>\n",
       "      <td>164.5523</td>\n",
       "    </tr>\n",
       "    <tr>\n",
       "      <th>99</th>\n",
       "      <td>12.5893</td>\n",
       "      <td>135.9961</td>\n",
       "      <td>185.9175</td>\n",
       "      <td>181.9983</td>\n",
       "    </tr>\n",
       "  </tbody>\n",
       "</table>\n",
       "<p>100 rows × 4 columns</p>\n",
       "</div>"
      ],
      "text/plain": [
       "     lambda  training_mse     loocv       gcv\n",
       "77   0.9261       11.1143   19.3411   20.2950\n",
       "78   1.0428       11.7132   19.3900   21.1709\n",
       "76   0.8225       10.6249   19.5544   19.5926\n",
       "79   1.1741       12.4449   19.7541   22.2551\n",
       "75   0.7305       10.2258   19.9813   19.0339\n",
       "..      ...           ...       ...       ...\n",
       "95   7.8332       82.5775  120.1984  118.2082\n",
       "96   8.8197       94.1640  135.1295  132.5608\n",
       "97   9.9305      106.9429  151.1217  148.0363\n",
       "98  11.1811      120.9006  168.0884  164.5523\n",
       "99  12.5893      135.9961  185.9175  181.9983\n",
       "\n",
       "[100 rows x 4 columns]"
      ]
     },
     "execution_count": 6,
     "metadata": {},
     "output_type": "execute_result"
    }
   ],
   "source": [
    "from sklearn.metrics import mean_squared_error\n",
    "\n",
    "lambdas = np.logspace(start = -4, stop = 1.1, num = 100, base = 10.0)\n",
    "results = []\n",
    "X = X_train_scaled.copy()\n",
    "y = y_train.copy()\n",
    "n = y.shape[0]\n",
    "d = X.shape[1]\n",
    "\n",
    "XtX = X.T @ X # To save on some computations, we'll calculate this once\n",
    "for l in lambdas:\n",
    "    XtX_inv = np.linalg.inv( XtX + l * np.identity(n=d))\n",
    "    coefs = (XtX_inv) @ X.T @ y\n",
    "    hatmat = X @ XtX_inv @ X.T\n",
    "    trace_hatmat = np.trace(hatmat)\n",
    "    y_pred = X @ coefs\n",
    "    loocv = 1/n * np.sum([((y[i] - y_pred[i]) / (1 - hatmat[i,i]))**2 for i in range(n)])\n",
    "    mse = mean_squared_error(y, y_pred)\n",
    "    gcv = mse / (1 - trace_hatmat/n)**2\n",
    "    results.append([l, mse, loocv, gcv])\n",
    "\n",
    "df = pd.DataFrame(results, columns = ['lambda', 'training_mse', 'loocv', 'gcv']) \n",
    "df.sort_values(by='loocv')\n"
   ]
  },
  {
   "cell_type": "code",
   "execution_count": 7,
   "metadata": {},
   "outputs": [
    {
     "data": {
      "image/png": "[encoded data removed]",
      "text/plain": [
       "<Figure size 640x480 with 1 Axes>"
      ]
     },
     "metadata": {},
     "output_type": "display_data"
    }
   ],
   "source": [
    "df.plot(kind='line', x='lambda');"
   ]
  },
  {
   "cell_type": "markdown",
   "metadata": {},
   "source": [
    "### select best lambda according to loocv; re-train on the whole training set to obtain model using best lambda"
   ]
  },
  {
   "cell_type": "code",
   "execution_count": 9,
   "metadata": {},
   "outputs": [
    {
     "name": "stdout",
     "output_type": "stream",
     "text": [
      "best lambda value: 0.9261\n"
     ]
    }
   ],
   "source": [
    "best_lambda = df.loc[df['loocv'].idxmin()]['lambda']\n",
    "\n",
    "print(f'best lambda value: {best_lambda:.4f}')\n",
    "\n",
    "# apply formula with \"best lambda\"\n",
    "theta_vector = np.linalg.inv( X_train_scaled.T @ X_train_scaled + best_lambda * np.identity(n=d)) @ X_train_scaled.T @ y\n"
   ]
  },
  {
   "cell_type": "markdown",
   "metadata": {},
   "source": [
    "### as a sanity check, see what RidgeRegressionCV from scikit-learn obtains as best lambda"
   ]
  },
  {
   "cell_type": "code",
   "execution_count": 10,
   "metadata": {},
   "outputs": [
    {
     "name": "stdout",
     "output_type": "stream",
     "text": [
      "there are 13 training examples.\n"
     ]
    },
    {
     "data": {
      "application/vnd.microsoft.datawrangler.viewer.v0+json": {
       "columns": [
        {
         "name": "index",
         "rawType": "int64",
         "type": "integer"
        },
        {
         "name": "cross-val method (k)",
         "rawType": "object",
         "type": "unknown"
        },
        {
         "name": "best lambda",
         "rawType": "float64",
         "type": "float"
        }
       ],
       "conversionMethod": "pd.DataFrame",
       "ref": "af30af3c-4c03-4e72-9a2b-4f9a0f610f84",
       "rows": [
        [
         "0",
         "2",
         "0.8225295611543618"
        ],
        [
         "1",
         "3",
         "0.9261187281287937"
        ],
        [
         "2",
         "4",
         "1.1740780525155752"
        ],
        [
         "3",
         "5",
         "0.8225295611543618"
        ],
        [
         "4",
         "6",
         "0.7305271542664449"
        ],
        [
         "5",
         "efficient",
         "0.9261187281287937"
        ]
       ],
       "shape": {
        "columns": 2,
        "rows": 6
       }
      },
      "text/html": [
       "<div>\n",
       "<style scoped>\n",
       "    .dataframe tbody tr th:only-of-type {\n",
       "        vertical-align: middle;\n",
       "    }\n",
       "\n",
       "    .dataframe tbody tr th {\n",
       "        vertical-align: top;\n",
       "    }\n",
       "\n",
       "    .dataframe thead th {\n",
       "        text-align: right;\n",
       "    }\n",
       "</style>\n",
       "<table border=\"1\" class=\"dataframe\">\n",
       "  <thead>\n",
       "    <tr style=\"text-align: right;\">\n",
       "      <th></th>\n",
       "      <th>cross-val method (k)</th>\n",
       "      <th>best lambda</th>\n",
       "    </tr>\n",
       "  </thead>\n",
       "  <tbody>\n",
       "    <tr>\n",
       "      <th>0</th>\n",
       "      <td>2</td>\n",
       "      <td>0.8225</td>\n",
       "    </tr>\n",
       "    <tr>\n",
       "      <th>1</th>\n",
       "      <td>3</td>\n",
       "      <td>0.9261</td>\n",
       "    </tr>\n",
       "    <tr>\n",
       "      <th>2</th>\n",
       "      <td>4</td>\n",
       "      <td>1.1741</td>\n",
       "    </tr>\n",
       "    <tr>\n",
       "      <th>3</th>\n",
       "      <td>5</td>\n",
       "      <td>0.8225</td>\n",
       "    </tr>\n",
       "    <tr>\n",
       "      <th>4</th>\n",
       "      <td>6</td>\n",
       "      <td>0.7305</td>\n",
       "    </tr>\n",
       "    <tr>\n",
       "      <th>5</th>\n",
       "      <td>efficient</td>\n",
       "      <td>0.9261</td>\n",
       "    </tr>\n",
       "  </tbody>\n",
       "</table>\n",
       "</div>"
      ],
      "text/plain": [
       "  cross-val method (k)  best lambda\n",
       "0                    2       0.8225\n",
       "1                    3       0.9261\n",
       "2                    4       1.1741\n",
       "3                    5       0.8225\n",
       "4                    6       0.7305\n",
       "5            efficient       0.9261"
      ]
     },
     "execution_count": 10,
     "metadata": {},
     "output_type": "execute_result"
    }
   ],
   "source": [
    "from sklearn.linear_model import RidgeCV\n",
    "\n",
    "print(f'there are {X_train_scaled.shape[0]} training examples.')\n",
    "results = []\n",
    "for k in range(2, 6+1):\n",
    "    ridge = RidgeCV(alphas=lambdas, fit_intercept=False, cv=k)   #k-fold cross-val\n",
    "    clf = ridge.fit(X_train_scaled, y_train)\n",
    "    results.append([k, clf.alpha_])\n",
    "\n",
    "## \"efficient\"  way:\n",
    "ridge = RidgeCV(alphas=lambdas, fit_intercept=False, cv=None)\n",
    "clf = ridge.fit(X_train_scaled, y_train)\n",
    "results.append(['efficient', clf.alpha_])\n",
    "\n",
    "pd.DataFrame(results, columns=['cross-val method (k)', 'best lambda'])"
   ]
  },
  {
   "cell_type": "markdown",
   "metadata": {},
   "source": [
    "## 4. Test trained linear model to predict `murders` on __unseen data__  (test partition)"
   ]
  },
  {
   "cell_type": "code",
   "execution_count": 10,
   "metadata": {},
   "outputs": [
    {
     "name": "stdout",
     "output_type": "stream",
     "text": [
      "   target     pred  abs_error  squared_error\n",
      "0    21.7  27.6167     5.9167        35.0073\n",
      "1    13.4  16.1888     2.7888         7.7771\n",
      "2    25.7  21.5409     4.1591        17.2980\n",
      "3     8.7   4.1998     4.5002        20.2517\n",
      "4    14.5  30.5809    16.0809       258.5966\n",
      "5    25.8  31.8522     6.0522        36.6287\n",
      "6    20.9  19.3787     1.5213         2.3143\n",
      "\n",
      "The TEST mean squared error is: 53.98196637762697\n"
     ]
    }
   ],
   "source": [
    "# make predictions on unseen test points (from test partition)\n",
    "y_pred = X_test_scaled @ theta_vector\n",
    "\n",
    "# compute squared error for each example\n",
    "abs_error = np.abs(y_pred - y_test)\n",
    "sq_error = np.square(y_pred - y_test)\n",
    "\n",
    "# show them in table\n",
    "dict_data = {'target': y_test.ravel(), 'pred': y_pred.ravel(), 'abs_error': abs_error.ravel(), 'squared_error': sq_error.ravel()}\n",
    "df = pd.DataFrame.from_dict(dict_data)\n",
    "print(df)\n",
    "\n",
    "print(f'\\nThe TEST mean squared error is: {mean_squared_error(y_pred, y_test)}')"
   ]
  },
  {
   "cell_type": "code",
   "execution_count": 11,
   "metadata": {},
   "outputs": [
    {
     "data": {
      "image/png": "[encoded data removed]",
      "text/plain": [
       "<Figure size 640x480 with 2 Axes>"
      ]
     },
     "metadata": {},
     "output_type": "display_data"
    }
   ],
   "source": [
    "ax = df.plot.scatter(x='target', y='pred', c='abs_error');\n",
    "ax.axis('equal');\n"
   ]
  },
  {
   "cell_type": "code",
   "execution_count": null,
   "metadata": {},
   "outputs": [],
   "source": []
  }
 ],
 "metadata": {
  "colab": {
   "provenance": [],
   "toc_visible": true
  },
  "kernelspec": {
   "display_name": ".venv",
   "language": "python",
   "name": "python3"
  },
  "language_info": {
   "codemirror_mode": {
    "name": "ipython",
    "version": 3
   },
   "file_extension": ".py",
   "mimetype": "text/x-python",
   "name": "python",
   "nbconvert_exporter": "python",
   "pygments_lexer": "ipython3",
   "version": "3.11.1"
  },
  "latex_envs": {
   "LaTeX_envs_menu_present": true,
   "autoclose": false,
   "autocomplete": true,
   "bibliofile": "biblio.bib",
   "cite_by": "apalike",
   "current_citInitial": 1,
   "eqLabelWithNumbers": true,
   "eqNumInitial": 1,
   "hotkeys": {
    "equation": "Ctrl-E",
    "itemize": "Ctrl-I"
   },
   "labels_anchors": false,
   "latex_user_defs": false,
   "report_style_numbering": false,
   "user_envs_cfg": false
  },
  "toc": {
   "base_numbering": 1,
   "nav_menu": {},
   "number_sections": true,
   "sideBar": true,
   "skip_h1_title": false,
   "title_cell": "Table of Contents",
   "title_sidebar": "Contents",
   "toc_cell": false,
   "toc_position": {
    "height": "calc(100% - 180px)",
    "left": "10px",
    "top": "150px",
    "width": "165px"
   },
   "toc_section_display": true,
   "toc_window_display": true
  }
 },
 "nbformat": 4,
 "nbformat_minor": 0
}
